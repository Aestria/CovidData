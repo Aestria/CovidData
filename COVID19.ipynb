{
 "cells": [
  {
   "cell_type": "code",
   "execution_count": 1,
   "metadata": {},
   "outputs": [],
   "source": [
    "import numpy as np\n",
    "import scipy as sy\n",
    "from scipy import special\n",
    "\n",
    "import matplotlib as mp\n",
    "import matplotlib.pyplot as plt\n",
    "from matplotlib.patches import Circle\n",
    "import matplotlib.cm as cm\n",
    "import matplotlib.colors as colors\n",
    "from matplotlib.colors import LogNorm\n",
    "heatmapcolour = cm.coolwarm\n",
    "heatmapcolour.set_bad('w',1.)\n",
    "plt.rcParams.update({'font.size': 20})\n",
    "mp.rc('xtick', labelsize=20)     \n",
    "mp.rc('ytick', labelsize=20)\n",
    "\n",
    "import uncertainties\n",
    "from uncertainties import ufloat\n",
    "from uncertainties import umath\n",
    "from uncertainties.umath import *  # sin(), etc.\n",
    "from uncertainties import unumpy  # Array manipulation\n",
    "from uncertainties import ufloat_fromstr\n",
    "\n",
    "import sympy as sm\n",
    "from sympy.solvers.ode import dsolve\n",
    "sm.init_printing()\n",
    "\n",
    "import pandas as pd"
   ]
  },
  {
   "cell_type": "code",
   "execution_count": null,
   "metadata": {},
   "outputs": [],
   "source": []
  }
 ],
 "metadata": {
  "kernelspec": {
   "display_name": "Python 3",
   "language": "python",
   "name": "python3"
  },
  "language_info": {
   "codemirror_mode": {
    "name": "ipython",
    "version": 3
   },
   "file_extension": ".py",
   "mimetype": "text/x-python",
   "name": "python",
   "nbconvert_exporter": "python",
   "pygments_lexer": "ipython3",
   "version": "3.6.8"
  }
 },
 "nbformat": 4,
 "nbformat_minor": 4
}
